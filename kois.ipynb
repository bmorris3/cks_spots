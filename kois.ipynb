{
 "cells": [
  {
   "cell_type": "markdown",
   "metadata": {},
   "source": [
    "[Column definitions](https://exoplanetarchive.ipac.caltech.edu/docs/API_kepcandidate_columns.html)"
   ]
  },
  {
   "cell_type": "code",
   "execution_count": 149,
   "metadata": {
    "collapsed": false
   },
   "outputs": [],
   "source": [
    "%matplotlib inline\n",
    "import numpy as np\n",
    "import matplotlib.pyplot as plt\n",
    "from astropy.io import ascii\n",
    "\n",
    "table = ascii.read('q1_q17_dr25_koi.csv')\n",
    "table.add_index('kepler_name')\n",
    "\n",
    "planets = table[table['koi_disposition'] != 'FALSE POSITIVE']"
   ]
  },
  {
   "cell_type": "code",
   "execution_count": 150,
   "metadata": {
    "collapsed": false
   },
   "outputs": [
    {
     "data": {
      "text/plain": [
       "(array([ 618.,   27.,    7.,    5.,    1.,    1.,    0.,    0.,    0.,    1.]),\n",
       " array([  3.41842017e-01,   1.07430920e+02,   2.14519998e+02,\n",
       "          3.21609077e+02,   4.28698155e+02,   5.35787233e+02,\n",
       "          6.42876311e+02,   7.49965389e+02,   8.57054468e+02,\n",
       "          9.64143546e+02,   1.07123262e+03]),\n",
       " <a list of 10 Patch objects>)"
      ]
     },
     "execution_count": 150,
     "metadata": {},
     "output_type": "execute_result"
    },
    {
     "data": {
      "image/png": "[encoded data removed]",
      "text/plain": [
       "<matplotlib.figure.Figure at 0x114967668>"
      ]
     },
     "metadata": {},
     "output_type": "display_data"
    }
   ],
   "source": [
    "plt.hist(planets['koi_period'], log=True)"
   ]
  },
  {
   "cell_type": "code",
   "execution_count": 151,
   "metadata": {
    "collapsed": false
   },
   "outputs": [],
   "source": [
    "from astropy.constants import R_jup, R_sun, R_earth"
   ]
  },
  {
   "cell_type": "markdown",
   "metadata": {},
   "source": [
    "If you had to guess on what orbital periods planets might tidally influence stars, what do you think is the longest orbital period worth looking at? 10 d?\n",
    "\n",
    "With 10 d, you get 8 KOIs with CKS Keck/HIRES spectra, with 5 d, you get ~1."
   ]
  },
  {
   "cell_type": "code",
   "execution_count": 152,
   "metadata": {
    "collapsed": false
   },
   "outputs": [
    {
     "data": {
      "text/plain": [
       "(576, 408)"
      ]
     },
     "execution_count": 152,
     "metadata": {},
     "output_type": "execute_result"
    }
   ],
   "source": [
    "len(ideal_koi_list), len(np.unique(ideal_koi_list))"
   ]
  },
  {
   "cell_type": "code",
   "execution_count": 162,
   "metadata": {
    "collapsed": false
   },
   "outputs": [
    {
     "name": "stdout",
     "output_type": "stream",
     "text": [
      "N planets 616\n"
     ]
    },
    {
     "data": {
      "image/png": "[encoded data removed]",
      "text/plain": [
       "<matplotlib.figure.Figure at 0x1161bb048>"
      ]
     },
     "metadata": {},
     "output_type": "display_data"
    }
   ],
   "source": [
    "log_per = np.log10(planets['koi_period'].data.data)\n",
    "rprs = np.sqrt(planets['koi_depth'].data.data * 1e-6)\n",
    "\n",
    "max_per = 100\n",
    "max_rprs = 1.0\n",
    "\n",
    "within_bin = (planets['koi_period'].data.data < max_per) & (rprs < max_rprs)\n",
    "print(\"N planets\", np.count_nonzero(within_bin))\n",
    "ideal_koi_list = [i.split('.')[0] for i in planets[within_bin]['kepoi_name'].data.data]\n",
    "\n",
    "fig, ax = plt.subplots()\n",
    "ax.plot(log_per, rprs, '.')\n",
    "ax.set(xlabel='log_10 period', ylabel='Rp/Rs')\n",
    "ax.set_ylim([0, 1.1*max_rprs])\n",
    "ax.set_xlim([-0.5, np.log10(10)])\n",
    "ax.text(np.log10(2), R_jup/R_sun, 'Hot Jup')\n",
    "ax.text(np.log10(2), 0.05, 'Hot Nep')\n",
    "ax.text(np.log10(2), R_earth/R_sun, 'Hot Earth')\n",
    "ax.axvline(np.log10(max_per))\n",
    "ax.axhline(max_rprs)\n",
    "plt.show()"
   ]
  },
  {
   "cell_type": "code",
   "execution_count": 163,
   "metadata": {
    "collapsed": false
   },
   "outputs": [
    {
     "name": "stdout",
     "output_type": "stream",
     "text": [
      "0.0656947486486\n",
      "4.887803076\n"
     ]
    }
   ],
   "source": [
    "print(np.sqrt(planets.loc['Kepler-3 b']['koi_depth'] * 1e-6))\n",
    "print(planets.loc['Kepler-3 b']['koi_period'])"
   ]
  },
  {
   "cell_type": "code",
   "execution_count": 164,
   "metadata": {
    "collapsed": false
   },
   "outputs": [
    {
     "data": {
      "text/html": [
       "&lt;Table masked=True length=34&gt;\n",
       "<table id=\"table4568811616\" class=\"table-striped table-bordered table-condensed\">\n",
       "<thead><tr><th>rowid</th><th>kepid</th><th>kepoi_name</th><th>kepler_name</th><th>koi_disposition</th><th>koi_pdisposition</th><th>koi_score</th><th>koi_fpflag_nt</th><th>koi_fpflag_ss</th><th>koi_fpflag_co</th><th>koi_fpflag_ec</th><th>koi_period</th><th>koi_period_err1</th><th>koi_period_err2</th><th>koi_time0bk</th><th>koi_time0bk_err1</th><th>koi_time0bk_err2</th><th>koi_impact</th><th>koi_impact_err1</th><th>koi_impact_err2</th><th>koi_duration</th><th>koi_duration_err1</th><th>koi_duration_err2</th><th>koi_depth</th><th>koi_depth_err1</th><th>koi_depth_err2</th><th>koi_prad</th><th>koi_prad_err1</th><th>koi_prad_err2</th><th>koi_teq</th><th>koi_teq_err1</th><th>koi_teq_err2</th><th>koi_insol</th><th>koi_insol_err1</th><th>koi_insol_err2</th><th>koi_model_snr</th><th>koi_tce_plnt_num</th><th>koi_tce_delivname</th><th>koi_steff</th><th>koi_steff_err1</th><th>koi_steff_err2</th><th>koi_slogg</th><th>koi_slogg_err1</th><th>koi_slogg_err2</th><th>koi_srad</th><th>koi_srad_err1</th><th>koi_srad_err2</th><th>ra</th><th>dec</th><th>koi_kepmag</th></tr></thead>\n",
       "<thead><tr><th>int64</th><th>int64</th><th>str9</th><th>str13</th><th>str14</th><th>str14</th><th>float64</th><th>int64</th><th>int64</th><th>int64</th><th>int64</th><th>float64</th><th>float64</th><th>float64</th><th>float64</th><th>float64</th><th>float64</th><th>float64</th><th>float64</th><th>float64</th><th>float64</th><th>float64</th><th>float64</th><th>float64</th><th>float64</th><th>float64</th><th>float64</th><th>float64</th><th>float64</th><th>float64</th><th>int64</th><th>int64</th><th>float64</th><th>float64</th><th>float64</th><th>float64</th><th>int64</th><th>str15</th><th>float64</th><th>float64</th><th>float64</th><th>float64</th><th>float64</th><th>float64</th><th>float64</th><th>float64</th><th>float64</th><th>float64</th><th>float64</th><th>float64</th></tr></thead>\n",
       "<tr><td>2986</td><td>9718066</td><td>K02287.01</td><td>Kepler-378 b</td><td>CONFIRMED</td><td>CANDIDATE</td><td>0.199</td><td>0</td><td>0</td><td>0</td><td>0</td><td>16.09227518</td><td>6.165e-05</td><td>-6.165e-05</td><td>142.51659</td><td>0.00331</td><td>-0.00331</td><td>0.932</td><td>0.027</td><td>-0.654</td><td>2.1072</td><td>0.095</td><td>-0.095</td><td>128.5</td><td>8.0</td><td>-8.0</td><td>0.98</td><td>0.09</td><td>-0.02</td><td>503.0</td><td>--</td><td>--</td><td>15.15</td><td>4.04</td><td>-1.88</td><td>18.1</td><td>1</td><td>q1_q17_dr25_tce</td><td>4657.0</td><td>93.0</td><td>-93.0</td><td>4.641</td><td>0.012</td><td>-0.048</td><td>0.67</td><td>0.055</td><td>-0.017</td><td>294.94858</td><td>46.438641</td><td>12.485</td></tr>\n",
       "<tr><td>2987</td><td>9718066</td><td>K02287.02</td><td>Kepler-378 c</td><td>CONFIRMED</td><td>CANDIDATE</td><td>0.08</td><td>0</td><td>0</td><td>0</td><td>0</td><td>28.9060526</td><td>0.000233</td><td>-0.000233</td><td>158.82431</td><td>0.00613</td><td>-0.00613</td><td>0.863</td><td>0.027</td><td>-0.591</td><td>3.099</td><td>0.198</td><td>-0.198</td><td>99.0</td><td>8.3</td><td>-8.3</td><td>0.79</td><td>0.06</td><td>-0.02</td><td>414.0</td><td>--</td><td>--</td><td>6.94</td><td>1.86</td><td>-0.86</td><td>13.3</td><td>2</td><td>q1_q17_dr25_tce</td><td>4657.0</td><td>93.0</td><td>-93.0</td><td>4.641</td><td>0.012</td><td>-0.048</td><td>0.67</td><td>0.055</td><td>-0.017</td><td>294.94858</td><td>46.438641</td><td>12.485</td></tr>\n",
       "<tr><td>3</td><td>10748390</td><td>K00003.01</td><td>Kepler-3 b</td><td>CONFIRMED</td><td>CANDIDATE</td><td>0.913</td><td>0</td><td>0</td><td>0</td><td>0</td><td>4.887803076</td><td>4.66e-07</td><td>-4.66e-07</td><td>124.8130808</td><td>7.51e-05</td><td>-7.51e-05</td><td>0.054</td><td>0.145</td><td>-0.054</td><td>2.36255</td><td>0.00466</td><td>-0.00466</td><td>4315.8</td><td>6.1</td><td>-6.1</td><td>4.82</td><td>0.17</td><td>-0.18</td><td>800.0</td><td>--</td><td>--</td><td>96.67</td><td>14.91</td><td>-13.89</td><td>862.3</td><td>1</td><td>q1_q17_dr25_tce</td><td>4778.0</td><td>86.0</td><td>-95.0</td><td>4.591</td><td>0.015</td><td>-0.036</td><td>0.763</td><td>0.028</td><td>-0.028</td><td>297.70935</td><td>48.080853</td><td>9.174</td></tr>\n",
       "<tr><td>89</td><td>10318874</td><td>K00104.01</td><td>Kepler-94 b</td><td>CONFIRMED</td><td>CANDIDATE</td><td>1.0</td><td>0</td><td>0</td><td>0</td><td>0</td><td>2.508057497</td><td>3.78e-07</td><td>-3.78e-07</td><td>135.000657</td><td>0.000124</td><td>-0.000124</td><td>0.742</td><td>0.047</td><td>-0.143</td><td>1.1134</td><td>0.0167</td><td>-0.0167</td><td>1507.6</td><td>6.2</td><td>-6.2</td><td>3.25</td><td>0.16</td><td>-0.12</td><td>997.0</td><td>--</td><td>--</td><td>234.06</td><td>45.09</td><td>-33.11</td><td>312.7</td><td>1</td><td>q1_q17_dr25_tce</td><td>4780.0</td><td>95.0</td><td>-95.0</td><td>4.597</td><td>0.015</td><td>-0.051</td><td>0.761</td><td>0.038</td><td>-0.027</td><td>281.19473</td><td>47.497131</td><td>12.895</td></tr>\n",
       "<tr><td>379</td><td>6063220</td><td>K00305.01</td><td>Kepler-99 b</td><td>CONFIRMED</td><td>CANDIDATE</td><td>1.0</td><td>0</td><td>0</td><td>0</td><td>0</td><td>4.603575293</td><td>4.668e-06</td><td>-4.668e-06</td><td>171.840124</td><td>0.000813</td><td>-0.000813</td><td>0.246</td><td>0.189</td><td>-0.246</td><td>2.3499</td><td>0.0261</td><td>-0.0261</td><td>440.4</td><td>6.3</td><td>-6.3</td><td>1.51</td><td>0.08</td><td>-0.06</td><td>810.0</td><td>--</td><td>--</td><td>101.65</td><td>20.2</td><td>-15.28</td><td>79.7</td><td>1</td><td>q1_q17_dr25_tce</td><td>4783.0</td><td>95.0</td><td>-95.0</td><td>4.602</td><td>0.014</td><td>-0.046</td><td>0.741</td><td>0.039</td><td>-0.03</td><td>297.354</td><td>41.300049</td><td>12.97</td></tr>\n",
       "<tr><td>2133</td><td>4276716</td><td>K01619.01</td><td>--</td><td>CANDIDATE</td><td>CANDIDATE</td><td>1.0</td><td>0</td><td>0</td><td>0</td><td>0</td><td>20.6654374</td><td>0.0001785</td><td>-0.0001785</td><td>132.01229</td><td>0.00651</td><td>-0.00651</td><td>0.05</td><td>0.417</td><td>-0.05</td><td>3.172</td><td>0.21</td><td>-0.21</td><td>100.4</td><td>8.4</td><td>-8.4</td><td>0.66</td><td>0.03</td><td>-0.04</td><td>487.0</td><td>--</td><td>--</td><td>13.35</td><td>2.41</td><td>-2.34</td><td>13.6</td><td>1</td><td>q1_q17_dr25_tce</td><td>4830.0</td><td>96.0</td><td>-96.0</td><td>4.605</td><td>0.042</td><td>-0.021</td><td>0.676</td><td>0.03</td><td>-0.037</td><td>294.99023</td><td>39.346378</td><td>11.759</td></tr>\n",
       "<tr><td>2842</td><td>11774991</td><td>K02173.01</td><td>Kepler-367 b</td><td>CONFIRMED</td><td>CANDIDATE</td><td>0.999</td><td>0</td><td>0</td><td>0</td><td>0</td><td>37.8154157</td><td>0.0002667</td><td>-0.0002667</td><td>141.10346</td><td>0.00568</td><td>-0.00568</td><td>0.533</td><td>0.399</td><td>-0.316</td><td>4.662</td><td>0.162</td><td>-0.162</td><td>286.4</td><td>14.2</td><td>-14.2</td><td>1.21</td><td>0.08</td><td>-0.04</td><td>401.0</td><td>--</td><td>--</td><td>6.09</td><td>1.38</td><td>-0.91</td><td>22.4</td><td>1</td><td>q1_q17_dr25_tce</td><td>4856.0</td><td>86.0</td><td>-106.0</td><td>4.624</td><td>0.012</td><td>-0.048</td><td>0.705</td><td>0.049</td><td>-0.025</td><td>297.29242</td><td>49.981628</td><td>12.879</td></tr>\n",
       "<tr><td>2843</td><td>11774991</td><td>K02173.02</td><td>Kepler-367 c</td><td>CONFIRMED</td><td>FALSE POSITIVE</td><td>0.0</td><td>0</td><td>0</td><td>1</td><td>0</td><td>53.5783052</td><td>0.0004684</td><td>-0.0004684</td><td>171.1857</td><td>0.00744</td><td>-0.00744</td><td>0.769</td><td>0.013</td><td>-0.556</td><td>5.194</td><td>0.2</td><td>-0.2</td><td>224.9</td><td>15.8</td><td>-15.8</td><td>1.16</td><td>0.09</td><td>-0.04</td><td>357.0</td><td>--</td><td>--</td><td>3.82</td><td>0.87</td><td>-0.56</td><td>15.4</td><td>2</td><td>q1_q17_dr25_tce</td><td>4856.0</td><td>86.0</td><td>-106.0</td><td>4.624</td><td>0.012</td><td>-0.048</td><td>0.705</td><td>0.049</td><td>-0.025</td><td>297.29242</td><td>49.981628</td><td>12.879</td></tr>\n",
       "<tr><td>1330</td><td>1026957</td><td>K00958.01</td><td>--</td><td>CANDIDATE</td><td>CANDIDATE</td><td>1.0</td><td>0</td><td>0</td><td>0</td><td>0</td><td>21.76129812</td><td>1.727e-05</td><td>-1.727e-05</td><td>166.540438</td><td>0.000641</td><td>-0.000641</td><td>0.123</td><td>0.288</td><td>-0.123</td><td>1.243</td><td>0.026</td><td>-0.026</td><td>1300.7</td><td>26.8</td><td>-26.8</td><td>2.53</td><td>0.16</td><td>-0.1</td><td>486.0</td><td>--</td><td>--</td><td>13.18</td><td>3.0</td><td>-1.98</td><td>60.0</td><td>1</td><td>q1_q17_dr25_tce</td><td>4859.0</td><td>97.0</td><td>-97.0</td><td>4.612</td><td>0.015</td><td>-0.045</td><td>0.72</td><td>0.047</td><td>-0.029</td><td>291.25449</td><td>36.74361</td><td>12.559</td></tr>\n",
       "<tr><td>4029</td><td>9885417</td><td>K03246.01</td><td>Kepler-1446 b</td><td>CONFIRMED</td><td>CANDIDATE</td><td>1.0</td><td>0</td><td>0</td><td>0</td><td>0</td><td>0.689967868</td><td>1.283e-06</td><td>-1.283e-06</td><td>131.63498</td><td>0.00157</td><td>-0.00157</td><td>0.119</td><td>0.34</td><td>-0.119</td><td>1.1688</td><td>0.0539</td><td>-0.0539</td><td>122.9</td><td>5.3</td><td>-5.3</td><td>0.78</td><td>0.06</td><td>-0.02</td><td>1539.0</td><td>--</td><td>--</td><td>1336.82</td><td>328.59</td><td>-176.95</td><td>28.7</td><td>1</td><td>q1_q17_dr25_tce</td><td>4872.0</td><td>97.0</td><td>-97.0</td><td>4.615</td><td>0.012</td><td>-0.051</td><td>0.726</td><td>0.053</td><td>-0.022</td><td>289.42395</td><td>46.72617</td><td>12.411</td></tr>\n",
       "<tr><td>...</td><td>...</td><td>...</td><td>...</td><td>...</td><td>...</td><td>...</td><td>...</td><td>...</td><td>...</td><td>...</td><td>...</td><td>...</td><td>...</td><td>...</td><td>...</td><td>...</td><td>...</td><td>...</td><td>...</td><td>...</td><td>...</td><td>...</td><td>...</td><td>...</td><td>...</td><td>...</td><td>...</td><td>...</td><td>...</td><td>...</td><td>...</td><td>...</td><td>...</td><td>...</td><td>...</td><td>...</td><td>...</td><td>...</td><td>...</td><td>...</td><td>...</td><td>...</td><td>...</td><td>...</td><td>...</td><td>...</td><td>...</td><td>...</td><td>...</td></tr>\n",
       "<tr><td>4682</td><td>4164922</td><td>K03864.01</td><td>--</td><td>CANDIDATE</td><td>CANDIDATE</td><td>1.0</td><td>0</td><td>0</td><td>0</td><td>0</td><td>1.210693626</td><td>1.592e-06</td><td>-1.592e-06</td><td>132.39306</td><td>0.00107</td><td>-0.00107</td><td>0.597</td><td>0.327</td><td>-0.374</td><td>1.434</td><td>0.0388</td><td>-0.0388</td><td>159.1</td><td>4.7</td><td>-4.7</td><td>0.99</td><td>0.05</td><td>-0.06</td><td>1351.0</td><td>--</td><td>--</td><td>784.51</td><td>154.33</td><td>-140.73</td><td>41.6</td><td>1</td><td>q1_q17_dr25_tce</td><td>5014.0</td><td>100.0</td><td>-100.0</td><td>4.559</td><td>0.044</td><td>-0.032</td><td>0.756</td><td>0.039</td><td>-0.043</td><td>293.34497</td><td>39.257809</td><td>12.914</td></tr>\n",
       "<tr><td>4683</td><td>4164922</td><td>K03864.02</td><td>--</td><td>CANDIDATE</td><td>CANDIDATE</td><td>0.999</td><td>0</td><td>0</td><td>0</td><td>0</td><td>18.2572722</td><td>0.0001081</td><td>-0.0001081</td><td>134.44527</td><td>0.00471</td><td>-0.00471</td><td>0.412</td><td>0.052</td><td>-0.412</td><td>3.434</td><td>0.142</td><td>-0.142</td><td>157.5</td><td>9.6</td><td>-9.6</td><td>0.94</td><td>0.05</td><td>-0.05</td><td>547.0</td><td>--</td><td>--</td><td>21.16</td><td>4.16</td><td>-3.79</td><td>17.3</td><td>2</td><td>q1_q17_dr25_tce</td><td>5014.0</td><td>100.0</td><td>-100.0</td><td>4.559</td><td>0.044</td><td>-0.032</td><td>0.756</td><td>0.039</td><td>-0.043</td><td>293.34497</td><td>39.257809</td><td>12.914</td></tr>\n",
       "<tr><td>3959</td><td>6278762</td><td>K03158.01</td><td>Kepler-444 b</td><td>CONFIRMED</td><td>CANDIDATE</td><td>1.0</td><td>0</td><td>0</td><td>0</td><td>0</td><td>3.60011712</td><td>1.624e-05</td><td>-1.624e-05</td><td>133.25983</td><td>0.00355</td><td>-0.00355</td><td>0.025</td><td>0.415</td><td>-0.025</td><td>2.396</td><td>0.112</td><td>-0.112</td><td>50.2</td><td>2.7</td><td>-2.7</td><td>0.5</td><td>0.04</td><td>-0.02</td><td>938.0</td><td>--</td><td>--</td><td>182.81</td><td>61.49</td><td>-33.31</td><td>21.6</td><td>5</td><td>q1_q17_dr25_tce</td><td>5051.0</td><td>177.0</td><td>-141.0</td><td>4.562</td><td>0.033</td><td>-0.023</td><td>0.721</td><td>0.057</td><td>-0.031</td><td>289.75229</td><td>41.634605</td><td>8.717</td></tr>\n",
       "<tr><td>3960</td><td>6278762</td><td>K03158.02</td><td>Kepler-444 c</td><td>CONFIRMED</td><td>CANDIDATE</td><td>1.0</td><td>0</td><td>0</td><td>0</td><td>0</td><td>4.54586982</td><td>1.253e-05</td><td>-1.253e-05</td><td>131.52442</td><td>0.00235</td><td>-0.00235</td><td>0.563</td><td>0.341</td><td>-0.347</td><td>1.756</td><td>0.0709</td><td>-0.0709</td><td>76.5</td><td>3.6</td><td>-3.6</td><td>0.65</td><td>0.05</td><td>-0.03</td><td>868.0</td><td>--</td><td>--</td><td>134.21</td><td>45.15</td><td>-24.45</td><td>24.4</td><td>4</td><td>q1_q17_dr25_tce</td><td>5051.0</td><td>177.0</td><td>-141.0</td><td>4.562</td><td>0.033</td><td>-0.023</td><td>0.721</td><td>0.057</td><td>-0.031</td><td>289.75229</td><td>41.634605</td><td>8.717</td></tr>\n",
       "<tr><td>3961</td><td>6278762</td><td>K03158.03</td><td>Kepler-444 d</td><td>CONFIRMED</td><td>CANDIDATE</td><td>1.0</td><td>0</td><td>0</td><td>0</td><td>0</td><td>6.18943952</td><td>2.185e-05</td><td>-2.185e-05</td><td>134.78</td><td>0.00287</td><td>-0.00287</td><td>0.334</td><td>0.105</td><td>-0.334</td><td>2.3316</td><td>0.0858</td><td>-0.0858</td><td>83.2</td><td>3.5</td><td>-3.5</td><td>0.65</td><td>0.05</td><td>-0.03</td><td>783.0</td><td>--</td><td>--</td><td>88.79</td><td>29.86</td><td>-16.18</td><td>26.8</td><td>3</td><td>q1_q17_dr25_tce</td><td>5051.0</td><td>177.0</td><td>-141.0</td><td>4.562</td><td>0.033</td><td>-0.023</td><td>0.721</td><td>0.057</td><td>-0.031</td><td>289.75229</td><td>41.634605</td><td>8.717</td></tr>\n",
       "<tr><td>3962</td><td>6278762</td><td>K03158.04</td><td>Kepler-444 e</td><td>CONFIRMED</td><td>CANDIDATE</td><td>1.0</td><td>0</td><td>0</td><td>0</td><td>0</td><td>7.74347801</td><td>3.085e-05</td><td>-3.085e-05</td><td>135.09417</td><td>0.00324</td><td>-0.00324</td><td>0.018</td><td>0.433</td><td>-0.018</td><td>2.7878</td><td>0.0887</td><td>-0.0887</td><td>77.8</td><td>3.5</td><td>-3.5</td><td>0.62</td><td>0.05</td><td>-0.03</td><td>727.0</td><td>--</td><td>--</td><td>65.88</td><td>22.15</td><td>-12.01</td><td>24.4</td><td>2</td><td>q1_q17_dr25_tce</td><td>5051.0</td><td>177.0</td><td>-141.0</td><td>4.562</td><td>0.033</td><td>-0.023</td><td>0.721</td><td>0.057</td><td>-0.031</td><td>289.75229</td><td>41.634605</td><td>8.717</td></tr>\n",
       "<tr><td>3963</td><td>6278762</td><td>K03158.05</td><td>Kepler-444 f</td><td>CONFIRMED</td><td>CANDIDATE</td><td>1.0</td><td>0</td><td>0</td><td>0</td><td>0</td><td>9.74048508</td><td>2.348e-05</td><td>-2.348e-05</td><td>134.87916</td><td>0.00191</td><td>-0.00191</td><td>0.89</td><td>0.043</td><td>-0.683</td><td>1.6993</td><td>0.0602</td><td>-0.0602</td><td>121.4</td><td>5.4</td><td>-5.4</td><td>0.95</td><td>0.08</td><td>-0.04</td><td>673.0</td><td>--</td><td>--</td><td>48.52</td><td>16.32</td><td>-8.84</td><td>25.8</td><td>1</td><td>q1_q17_dr25_tce</td><td>5051.0</td><td>177.0</td><td>-141.0</td><td>4.562</td><td>0.033</td><td>-0.023</td><td>0.721</td><td>0.057</td><td>-0.031</td><td>289.75229</td><td>41.634605</td><td>8.717</td></tr>\n",
       "<tr><td>2678</td><td>6307083</td><td>K02050.02</td><td>--</td><td>CANDIDATE</td><td>CANDIDATE</td><td>0.939</td><td>0</td><td>0</td><td>0</td><td>0</td><td>3.17796408</td><td>1.868e-05</td><td>-1.868e-05</td><td>134.35285</td><td>0.00473</td><td>-0.00473</td><td>0.901</td><td>0.007</td><td>-0.693</td><td>0.542</td><td>0.142</td><td>-0.142</td><td>47.7</td><td>8.6</td><td>-8.6</td><td>0.74</td><td>0.04</td><td>-0.05</td><td>1034.0</td><td>--</td><td>--</td><td>270.25</td><td>44.83</td><td>-54.23</td><td>6.0</td><td>3</td><td>q1_q17_dr25_tce</td><td>5061.0</td><td>83.0</td><td>-76.0</td><td>4.488</td><td>0.088</td><td>-0.028</td><td>0.841</td><td>0.038</td><td>-0.066</td><td>297.63519</td><td>41.641869</td><td>12.218</td></tr>\n",
       "<tr><td>387</td><td>7419318</td><td>K00313.01</td><td>Kepler-137 c</td><td>CONFIRMED</td><td>CANDIDATE</td><td>1.0</td><td>0</td><td>0</td><td>0</td><td>0</td><td>18.73577127</td><td>2.211e-05</td><td>-2.211e-05</td><td>177.634372</td><td>0.000931</td><td>-0.000931</td><td>0.785</td><td>0.059</td><td>-0.544</td><td>3.0356</td><td>0.0357</td><td>-0.0357</td><td>567.2</td><td>7.7</td><td>-7.7</td><td>2.1</td><td>0.14</td><td>-0.12</td><td>568.0</td><td>--</td><td>--</td><td>24.66</td><td>5.7</td><td>-4.29</td><td>81.8</td><td>1</td><td>q1_q17_dr25_tce</td><td>5188.0</td><td>103.0</td><td>-103.0</td><td>4.547</td><td>0.04</td><td>-0.05</td><td>0.795</td><td>0.053</td><td>-0.043</td><td>282.13553</td><td>43.039101</td><td>12.99</td></tr>\n",
       "<tr><td>388</td><td>7419318</td><td>K00313.02</td><td>Kepler-137 b</td><td>CONFIRMED</td><td>CANDIDATE</td><td>1.0</td><td>0</td><td>0</td><td>0</td><td>0</td><td>8.43639829</td><td>1.086e-05</td><td>-1.086e-05</td><td>179.88704</td><td>0.00103</td><td>-0.00103</td><td>0.51</td><td>0.027</td><td>-0.415</td><td>3.2451</td><td>0.0345</td><td>-0.0345</td><td>345.5</td><td>5.1</td><td>-5.1</td><td>1.5</td><td>0.1</td><td>-0.08</td><td>742.0</td><td>--</td><td>--</td><td>71.51</td><td>16.51</td><td>-12.46</td><td>76.8</td><td>2</td><td>q1_q17_dr25_tce</td><td>5188.0</td><td>103.0</td><td>-103.0</td><td>4.547</td><td>0.04</td><td>-0.05</td><td>0.795</td><td>0.053</td><td>-0.043</td><td>282.13553</td><td>43.039101</td><td>12.99</td></tr>\n",
       "</table>"
      ],
      "text/plain": [
       "<Table masked=True length=34>\n",
       "rowid  kepid   kepoi_name  kepler_name  ...     ra       dec    koi_kepmag\n",
       "int64  int64      str9        str13     ...  float64   float64   float64  \n",
       "----- -------- ---------- ------------- ... --------- --------- ----------\n",
       " 2986  9718066  K02287.01  Kepler-378 b ... 294.94858 46.438641     12.485\n",
       " 2987  9718066  K02287.02  Kepler-378 c ... 294.94858 46.438641     12.485\n",
       "    3 10748390  K00003.01    Kepler-3 b ... 297.70935 48.080853      9.174\n",
       "   89 10318874  K00104.01   Kepler-94 b ... 281.19473 47.497131     12.895\n",
       "  379  6063220  K00305.01   Kepler-99 b ...   297.354 41.300049      12.97\n",
       " 2133  4276716  K01619.01            -- ... 294.99023 39.346378     11.759\n",
       " 2842 11774991  K02173.01  Kepler-367 b ... 297.29242 49.981628     12.879\n",
       " 2843 11774991  K02173.02  Kepler-367 c ... 297.29242 49.981628     12.879\n",
       " 1330  1026957  K00958.01            -- ... 291.25449  36.74361     12.559\n",
       " 4029  9885417  K03246.01 Kepler-1446 b ... 289.42395  46.72617     12.411\n",
       "  ...      ...        ...           ... ...       ...       ...        ...\n",
       " 4682  4164922  K03864.01            -- ... 293.34497 39.257809     12.914\n",
       " 4683  4164922  K03864.02            -- ... 293.34497 39.257809     12.914\n",
       " 3959  6278762  K03158.01  Kepler-444 b ... 289.75229 41.634605      8.717\n",
       " 3960  6278762  K03158.02  Kepler-444 c ... 289.75229 41.634605      8.717\n",
       " 3961  6278762  K03158.03  Kepler-444 d ... 289.75229 41.634605      8.717\n",
       " 3962  6278762  K03158.04  Kepler-444 e ... 289.75229 41.634605      8.717\n",
       " 3963  6278762  K03158.05  Kepler-444 f ... 289.75229 41.634605      8.717\n",
       " 2678  6307083  K02050.02            -- ... 297.63519 41.641869     12.218\n",
       "  387  7419318  K00313.01  Kepler-137 c ... 282.13553 43.039101      12.99\n",
       "  388  7419318  K00313.02  Kepler-137 b ... 282.13553 43.039101      12.99"
      ]
     },
     "execution_count": 164,
     "metadata": {},
     "output_type": "execute_result"
    }
   ],
   "source": [
    "planets[within_bin][planets[within_bin]['koi_kepmag'] < 13]"
   ]
  },
  {
   "cell_type": "code",
   "execution_count": 165,
   "metadata": {
    "collapsed": false
   },
   "outputs": [
    {
     "name": "stdout",
     "output_type": "stream",
     "text": [
      "['K03158.01' 'K03158.02' 'K03158.03' 'K03158.04' 'K03158.05' 'K00003.01'\n",
      " 'K00082.04' 'K00082.01' 'K00082.02' 'K00082.03' 'K00082.05' 'K00082.06'\n",
      " 'K01619.01' 'K02050.02' 'K01781.03']\n",
      "[  8.717   8.717   8.717   8.717   8.717   9.174  11.492  11.492  11.492\n",
      "  11.492  11.492  11.492  11.759  12.218  12.231]\n",
      "['Kepler-444 b' 'Kepler-444 c' 'Kepler-444 d' 'Kepler-444 e' 'Kepler-444 f'\n",
      " 'Kepler-3 b' 'Kepler-102 c' 'Kepler-102 e' 'Kepler-102 d' 'Kepler-102 f'\n",
      " 'Kepler-102 b' '0' '0' '0' '0']\n"
     ]
    }
   ],
   "source": [
    "n = 15\n",
    "mag_order = np.argsort(planets[within_bin]['koi_kepmag'].data.data)\n",
    "print(planets[within_bin]['kepoi_name'].data.data[mag_order][:n])\n",
    "print(planets[within_bin]['koi_kepmag'].data.data[mag_order][:n])\n",
    "print(planets[within_bin]['kepler_name'].data.data[mag_order][:n])"
   ]
  },
  {
   "cell_type": "code",
   "execution_count": 166,
   "metadata": {
    "collapsed": false
   },
   "outputs": [
    {
     "data": {
      "text/plain": [
       "130"
      ]
     },
     "execution_count": 166,
     "metadata": {},
     "output_type": "execute_result"
    }
   ],
   "source": [
    "from itertools import chain\n",
    "splits = list(chain(*[i.split(\".fits\") for i in \n",
    "              open('/Users/bmmorris/git/cks_spots/spectra.html').read().split('href=\"')]))\n",
    "cks_koi_list = np.unique([i.split('cks-')[1].split('_')[0].upper() for i in splits if i.startswith('cks')])\n",
    "intersection = set(cks_koi_list).intersection(set(ideal_koi_list))\n",
    "len(intersection)"
   ]
  },
  {
   "cell_type": "code",
   "execution_count": 167,
   "metadata": {
    "collapsed": false
   },
   "outputs": [],
   "source": [
    "# for i in intersection:\n",
    "#     for j in table['kepoi_name']:\n",
    "#         table['kepoi_name']"
   ]
  },
  {
   "cell_type": "code",
   "execution_count": 168,
   "metadata": {
    "collapsed": false
   },
   "outputs": [],
   "source": [
    "from bs4 import BeautifulSoup\n",
    "soup = BeautifulSoup(open('/Users/bmmorris/git/cks_spots/spectra.html').read(), 'html.parser')\n",
    "\n",
    "links = []\n",
    "teffs = []\n",
    "root_url = 'http://www.astro.caltech.edu/~howard/cks/spectra/'\n",
    "all_as = soup.find_all('a')\n",
    "\n",
    "for link in all_as:\n",
    "    if len(str(link)) > len('<a href=\"/~howard/cks/\">Parent Directory</a>,'):\n",
    "        koi_name = link.get('href').split('-')[1].split('_')[0]\n",
    "        if 'bj' in link.get('href') and koi_name.upper() in intersection:\n",
    "            links.append(root_url + link.get('href'))"
   ]
  },
  {
   "cell_type": "code",
   "execution_count": 169,
   "metadata": {
    "collapsed": false
   },
   "outputs": [],
   "source": [
    "with open('links_cached.txt', 'w') as w:\n",
    "    w.write('\\n'.join(links))"
   ]
  },
  {
   "cell_type": "code",
   "execution_count": 170,
   "metadata": {
    "collapsed": false
   },
   "outputs": [
    {
     "name": "stdout",
     "output_type": "stream",
     "text": [
      "Downloading http://www.astro.caltech.edu/~howard/cks/spectra/cks-k00174_bj102.105.fits [Done]\n",
      "Downloading http://www.astro.caltech.edu/~howard/cks/spectra/cks-k01199_bj127.889.fits [Done]\n",
      "Downloading http://www.astro.caltech.edu/~howard/cks/spectra/cks-k01938_bj157.104.fits [Done]\n",
      "Downloading http://www.astro.caltech.edu/~howard/cks/spectra/cks-k02290_bj158.491.fits [Done]\n",
      "Downloading http://www.astro.caltech.edu/~howard/cks/spectra/cks-k02828_bj191.466.fits [Done]\n",
      "Downloading http://www.astro.caltech.edu/~howard/cks/spectra/cks-k02931_bj156.524.fits [Done]\n"
     ]
    }
   ],
   "source": [
    "from astropy.utils.data import download_file\n",
    "\n",
    "for link in links:\n",
    "    download_file(link, cache=True)"
   ]
  },
  {
   "cell_type": "code",
   "execution_count": null,
   "metadata": {
    "collapsed": true
   },
   "outputs": [],
   "source": []
  }
 ],
 "metadata": {
  "kernelspec": {
   "display_name": "Python 3",
   "language": "python",
   "name": "python3"
  },
  "language_info": {
   "codemirror_mode": {
    "name": "ipython",
    "version": 3
   },
   "file_extension": ".py",
   "mimetype": "text/x-python",
   "name": "python",
   "nbconvert_exporter": "python",
   "pygments_lexer": "ipython3",
   "version": "3.5.2"
  }
 },
 "nbformat": 4,
 "nbformat_minor": 0
}
